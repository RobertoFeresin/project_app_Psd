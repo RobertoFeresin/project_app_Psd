{
 "cells": [
  {
   "cell_type": "code",
   "execution_count": 4,
   "metadata": {},
   "outputs": [
    {
     "name": "stdout",
     "output_type": "stream",
     "text": [
      "Defaulting to user installation because normal site-packages is not writeable\n",
      "Requirement already satisfied: SpeechRecognition in c:\\users\\instrutor\\appdata\\roaming\\python\\python311\\site-packages (3.10.0)\n",
      "Requirement already satisfied: requests>=2.26.0 in c:\\users\\instrutor\\appdata\\roaming\\python\\python311\\site-packages (from SpeechRecognition) (2.31.0)\n",
      "Requirement already satisfied: charset-normalizer<4,>=2 in c:\\users\\instrutor\\appdata\\roaming\\python\\python311\\site-packages (from requests>=2.26.0->SpeechRecognition) (3.3.0)\n",
      "Requirement already satisfied: idna<4,>=2.5 in c:\\users\\instrutor\\appdata\\roaming\\python\\python311\\site-packages (from requests>=2.26.0->SpeechRecognition) (3.4)\n",
      "Requirement already satisfied: urllib3<3,>=1.21.1 in c:\\users\\instrutor\\appdata\\roaming\\python\\python311\\site-packages (from requests>=2.26.0->SpeechRecognition) (2.0.7)\n",
      "Requirement already satisfied: certifi>=2017.4.17 in c:\\users\\instrutor\\appdata\\roaming\\python\\python311\\site-packages (from requests>=2.26.0->SpeechRecognition) (2023.7.22)\n",
      "Note: you may need to restart the kernel to use updated packages.\n"
     ]
    }
   ],
   "source": [
    "pip install SpeechRecognition\n"
   ]
  },
  {
   "cell_type": "code",
   "execution_count": 15,
   "metadata": {},
   "outputs": [],
   "source": [
    "import speech_recognition as sr\n",
    "\n",
    "def reconhecer_fala():\n",
    "    microfone = sr.Recognizer()\n",
    "    with sr.Microphone() as source:\n",
    "        print(\"Diga alguma coisa\")\n",
    "        audio = microfone.listen(source)\n",
    "        try:\n",
    "            frase = microfone.recognize_google(audio, language='pt-BR')    \n",
    "            return frase\n",
    "        except sr.UnknownValueError:\n",
    "            print('Não foi possível entender o que você disse.')\n",
    "        except sr.RequestError:\n",
    "            print('Não foi possível se conectar ao serviço de reconhecimento de fala.')\n",
    "\n"
   ]
  },
  {
   "cell_type": "code",
   "execution_count": 21,
   "metadata": {},
   "outputs": [
    {
     "name": "stdout",
     "output_type": "stream",
     "text": [
      "Fale seu nome\n",
      "Diga alguma coisa\n",
      "Fale sua senha\n",
      "Diga alguma coisa\n",
      "rato bola\n",
      "True\n"
     ]
    }
   ],
   "source": [
    "class registro:\n",
    "    def __init__(self, nome, senha):\n",
    "        self.nome = nome\n",
    "        self.senha = senha\n",
    "\n",
    "        print(self.nome, self.senha)\n",
    "      \n",
    "    def verificaLogin(self):\n",
    "        if self.nome == \"rato\" and self.senha == \"bola\":\n",
    "            return True            \n",
    "        else:\n",
    "            return False\n",
    "\n",
    "# Criando uma instância da classe filmes\n",
    "print(\"Fale seu nome\")\n",
    "nomeUsuario = reconhecer_fala()\n",
    "print(\"Fale sua senha\")\n",
    "senhaUsuario = reconhecer_fala()\n",
    "\n",
    "registro_ =  registro(nomeUsuario, senhaUsuario)\n",
    "# Chamando o método login\n",
    "\n",
    "print(registro_.verificaLogin())\n"
   ]
  },
  {
   "cell_type": "code",
   "execution_count": null,
   "metadata": {},
   "outputs": [],
   "source": []
  }
 ],
 "metadata": {
  "kernelspec": {
   "display_name": "Python 3",
   "language": "python",
   "name": "python3"
  },
  "language_info": {
   "codemirror_mode": {
    "name": "ipython",
    "version": 3
   },
   "file_extension": ".py",
   "mimetype": "text/x-python",
   "name": "python",
   "nbconvert_exporter": "python",
   "pygments_lexer": "ipython3",
   "version": "3.11.1"
  },
  "orig_nbformat": 4,
  "vscode": {
   "interpreter": {
    "hash": "5238573367df39f7286bb46f9ff5f08f63a01a80960060ce41e3c79b190280fa"
   }
  }
 },
 "nbformat": 4,
 "nbformat_minor": 2
}
