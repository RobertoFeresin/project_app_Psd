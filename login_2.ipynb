{
 "cells": [
  {
   "cell_type": "code",
   "execution_count": 4,
   "metadata": {},
   "outputs": [
    {
     "name": "stdout",
     "output_type": "stream",
     "text": [
      "Defaulting to user installation because normal site-packages is not writeable\n",
      "Requirement already satisfied: SpeechRecognition in c:\\users\\instrutor\\appdata\\roaming\\python\\python311\\site-packages (3.10.0)\n",
      "Requirement already satisfied: requests>=2.26.0 in c:\\users\\instrutor\\appdata\\roaming\\python\\python311\\site-packages (from SpeechRecognition) (2.31.0)\n",
      "Requirement already satisfied: charset-normalizer<4,>=2 in c:\\users\\instrutor\\appdata\\roaming\\python\\python311\\site-packages (from requests>=2.26.0->SpeechRecognition) (3.3.0)\n",
      "Requirement already satisfied: idna<4,>=2.5 in c:\\users\\instrutor\\appdata\\roaming\\python\\python311\\site-packages (from requests>=2.26.0->SpeechRecognition) (3.4)\n",
      "Requirement already satisfied: urllib3<3,>=1.21.1 in c:\\users\\instrutor\\appdata\\roaming\\python\\python311\\site-packages (from requests>=2.26.0->SpeechRecognition) (2.0.7)\n",
      "Requirement already satisfied: certifi>=2017.4.17 in c:\\users\\instrutor\\appdata\\roaming\\python\\python311\\site-packages (from requests>=2.26.0->SpeechRecognition) (2023.7.22)\n",
      "Note: you may need to restart the kernel to use updated packages.\n"
     ]
    }
   ],
   "source": [
    "pip install SpeechRecognition\n"
   ]
  },
  {
   "cell_type": "code",
   "execution_count": 16,
   "metadata": {},
   "outputs": [
    {
     "name": "stdout",
     "output_type": "stream",
     "text": [
      "Diga alguma coisa\n"
     ]
    },
    {
     "data": {
      "text/plain": [
       "'teste'"
      ]
     },
     "execution_count": 16,
     "metadata": {},
     "output_type": "execute_result"
    }
   ],
   "source": [
    "import speech_recognition as sr\n",
    "\n",
    "def reconhecer_fala():\n",
    "    microfone = sr.Recognizer()\n",
    "    with sr.Microphone() as source:\n",
    "        print(\"Diga alguma coisa\")\n",
    "        audio = microfone.listen(source)\n",
    "        try:\n",
    "            frase = microfone.recognize_google(audio, language='pt-BR')    \n",
    "            return frase\n",
    "        except sr.UnknownValueError:\n",
    "            print('Não foi possível entender o que você disse.')\n",
    "        except sr.RequestError:\n",
    "            print('Não foi possível se conectar ao serviço de reconhecimento de fala.')\n",
    "\n",
    "voz = reconhecer_fala \n",
    "voz()"
   ]
  },
  {
   "cell_type": "code",
   "execution_count": 17,
   "metadata": {},
   "outputs": [
    {
     "name": "stdout",
     "output_type": "stream",
     "text": [
      "Fale seu nome\n",
      "Diga alguma coisa\n",
      "Fale sua senha\n",
      "Diga alguma coisa\n",
      "rato bola\n",
      "True\n"
     ]
    }
   ],
   "source": [
    "class registro:\n",
    "    def __init__(self, nome, senha):\n",
    "        self.nome = nome\n",
    "        self.senha = senha\n",
    "\n",
    "        print(self.nome, self.senha)\n",
    "      \n",
    "    def verificaLogin(self):\n",
    "        if self.nome == \"rato\" and self.senha == \"bola\":\n",
    "            return True            \n",
    "        else:\n",
    "            return False\n",
    "\n",
    "# Criando uma instância da classe filmes\n",
    "print(\"Fale seu nome\")\n",
    "nomeUsuario = voz()\n",
    "print(\"Fale sua senha\")\n",
    "senhaUsuario = voz()\n",
    "\n",
    "registro_ =  registro(nomeUsuario, senhaUsuario)\n",
    "# Chamando o método login\n",
    "\n",
    "print(registro_.verificaLogin())\n"
   ]
  },
  {
   "cell_type": "markdown",
   "metadata": {},
   "source": [
    "Conversão de endereço para Latitude e Longitude"
   ]
  },
  {
   "cell_type": "code",
   "execution_count": 1,
   "metadata": {},
   "outputs": [
    {
     "name": "stdout",
     "output_type": "stream",
     "text": [
      "Collecting geopyNote: you may need to restart the kernel to use updated packages.\n",
      "\n",
      "  Downloading geopy-2.4.0-py3-none-any.whl.metadata (6.8 kB)\n",
      "Collecting geographiclib<3,>=1.52 (from geopy)\n",
      "  Downloading geographiclib-2.0-py3-none-any.whl (40 kB)\n",
      "     ---------------------------------------- 0.0/40.3 kB ? eta -:--:--\n",
      "     ---------------------------------------- 0.0/40.3 kB ? eta -:--:--\n",
      "     ---------------------------------------- 0.0/40.3 kB ? eta -:--:--\n",
      "     ---------- ----------------------------- 10.2/40.3 kB ? eta -:--:--\n",
      "     ------------------- ------------------ 20.5/40.3 kB 162.5 kB/s eta 0:00:01\n",
      "     ---------------------------- --------- 30.7/40.3 kB 186.2 kB/s eta 0:00:01\n",
      "     -------------------------------------- 40.3/40.3 kB 213.4 kB/s eta 0:00:00\n",
      "Downloading geopy-2.4.0-py3-none-any.whl (125 kB)\n",
      "   ---------------------------------------- 0.0/125.4 kB ? eta -:--:--\n",
      "   --------- ------------------------------ 30.7/125.4 kB 1.3 MB/s eta 0:00:01\n",
      "   ------------------- -------------------- 61.4/125.4 kB 1.1 MB/s eta 0:00:01\n",
      "   ---------------------------------------- 125.4/125.4 kB 1.2 MB/s eta 0:00:00\n",
      "Installing collected packages: geographiclib, geopy\n",
      "Successfully installed geographiclib-2.0 geopy-2.4.0\n"
     ]
    }
   ],
   "source": [
    "pip install geopy"
   ]
  },
  {
   "cell_type": "code",
   "execution_count": 2,
   "metadata": {},
   "outputs": [],
   "source": [
    "import geopy"
   ]
  },
  {
   "cell_type": "code",
   "execution_count": 22,
   "metadata": {},
   "outputs": [
    {
     "ename": "IndentationError",
     "evalue": "expected an indented block after function definition on line 14 (2533513525.py, line 17)",
     "output_type": "error",
     "traceback": [
      "\u001b[1;36m  Cell \u001b[1;32mIn[22], line 17\u001b[1;36m\u001b[0m\n\u001b[1;33m    if geolocator == voz and location == voz:\u001b[0m\n\u001b[1;37m    ^\u001b[0m\n\u001b[1;31mIndentationError\u001b[0m\u001b[1;31m:\u001b[0m expected an indented block after function definition on line 14\n"
     ]
    }
   ],
   "source": [
    "class mapa:\n",
    "    \n",
    "    def __init__(self, lugar, maoa):\n",
    "        \n",
    "       \n",
    "        from geopy.geocoders import Nominatim\n",
    "        geolocator = Nominatim(user_agent=\"MASP\")\n",
    "        location = geolocator.geocode(\"Avenida Paulista MASP\")\n",
    "\n",
    "        self.lugar(input(geolocator))\n",
    "        self.mapa(input(location))\n",
    "\n",
    "    \n",
    "    def voz(self):\n",
    "\n",
    "    \n",
    "    if geolocator == voz and location == voz:\n",
    "    print(location.address)\n",
    "    print((location.latitude, location.longitude))\n",
    "    print(location.raw)\n",
    "\n",
    "\n",
    "    def mostra (self):\n",
    "        print(\"O a sua localização é {self.lugar}?\")"
   ]
  },
  {
   "cell_type": "code",
   "execution_count": 10,
   "metadata": {},
   "outputs": [
    {
     "name": "stdout",
     "output_type": "stream",
     "text": [
      "Diga algo:\n",
      "Texture, Place Fodéré, Saint-Pierre, Saint-Jean-de-Maurienne, Savoie, Auvergne-Rhône-Alpes, France métropolitaine, 73300, France\n",
      "(45.2781644, 6.3427051)\n",
      "{'place_id': 75143383, 'licence': 'Data © OpenStreetMap contributors, ODbL 1.0. http://osm.org/copyright', 'osm_type': 'node', 'osm_id': 9942120622, 'lat': '45.2781644', 'lon': '6.3427051', 'class': 'shop', 'type': 'hairdresser', 'place_rank': 30, 'importance': 9.99999999995449e-06, 'addresstype': 'shop', 'name': 'Texture', 'display_name': 'Texture, Place Fodéré, Saint-Pierre, Saint-Jean-de-Maurienne, Savoie, Auvergne-Rhône-Alpes, France métropolitaine, 73300, France', 'boundingbox': ['45.2781144', '45.2782144', '6.3426551', '6.3427551']}\n"
     ]
    }
   ],
   "source": []
  },
  {
   "cell_type": "code",
   "execution_count": 11,
   "metadata": {},
   "outputs": [
    {
     "ename": "ConfigurationError",
     "evalue": "Using Nominatim with default or sample `user_agent` \"geopy/2.4.0\" is strongly discouraged, as it violates Nominatim's ToS https://operations.osmfoundation.org/policies/nominatim/ and may possibly cause 403 and 429 HTTP errors. Please specify a custom `user_agent` with `Nominatim(user_agent=\"my-application\")` or by overriding the default `user_agent`: `geopy.geocoders.options.default_user_agent = \"my-application\"`.",
     "output_type": "error",
     "traceback": [
      "\u001b[1;31m---------------------------------------------------------------------------\u001b[0m",
      "\u001b[1;31mConfigurationError\u001b[0m                        Traceback (most recent call last)",
      "\u001b[1;32mc:\\Users\\betot\\Downloads\\login_2 (3).ipynb Célula 9\u001b[0m line \u001b[0;36m1\n\u001b[1;32m----> <a href='vscode-notebook-cell:/c%3A/Users/betot/Downloads/login_2%20%283%29.ipynb#X16sZmlsZQ%3D%3D?line=0'>1</a>\u001b[0m \u001b[39mclass\u001b[39;49;00m \u001b[39mlocalizacao\u001b[39;49;00m:\n\u001b[0;32m      <a href='vscode-notebook-cell:/c%3A/Users/betot/Downloads/login_2%20%283%29.ipynb#X16sZmlsZQ%3D%3D?line=2'>3</a>\u001b[0m     \u001b[39mfrom\u001b[39;49;00m \u001b[39mgeopy\u001b[39;49;00m\u001b[39m.\u001b[39;49;00m\u001b[39mgeocoders\u001b[39;49;00m \u001b[39mimport\u001b[39;49;00m Nominatim\n\u001b[0;32m      <a href='vscode-notebook-cell:/c%3A/Users/betot/Downloads/login_2%20%283%29.ipynb#X16sZmlsZQ%3D%3D?line=3'>4</a>\u001b[0m     geolocator \u001b[39m=\u001b[39;49m Nominatim(user_agent\u001b[39m=\u001b[39;49m\u001b[39m\"\u001b[39;49m\u001b[39m\"\u001b[39;49m)\n",
      "\u001b[1;32mc:\\Users\\betot\\Downloads\\login_2 (3).ipynb Célula 9\u001b[0m line \u001b[0;36m4\n\u001b[0;32m      <a href='vscode-notebook-cell:/c%3A/Users/betot/Downloads/login_2%20%283%29.ipynb#X16sZmlsZQ%3D%3D?line=0'>1</a>\u001b[0m \u001b[39mclass\u001b[39;00m \u001b[39mlocalizacao\u001b[39;00m:\n\u001b[0;32m      <a href='vscode-notebook-cell:/c%3A/Users/betot/Downloads/login_2%20%283%29.ipynb#X16sZmlsZQ%3D%3D?line=2'>3</a>\u001b[0m     \u001b[39mfrom\u001b[39;00m \u001b[39mgeopy\u001b[39;00m\u001b[39m.\u001b[39;00m\u001b[39mgeocoders\u001b[39;00m \u001b[39mimport\u001b[39;00m Nominatim\n\u001b[1;32m----> <a href='vscode-notebook-cell:/c%3A/Users/betot/Downloads/login_2%20%283%29.ipynb#X16sZmlsZQ%3D%3D?line=3'>4</a>\u001b[0m     geolocator \u001b[39m=\u001b[39m Nominatim(user_agent\u001b[39m=\u001b[39;49m\u001b[39m\"\u001b[39;49m\u001b[39m\"\u001b[39;49m)\n\u001b[0;32m      <a href='vscode-notebook-cell:/c%3A/Users/betot/Downloads/login_2%20%283%29.ipynb#X16sZmlsZQ%3D%3D?line=4'>5</a>\u001b[0m     location \u001b[39m=\u001b[39m geolocator\u001b[39m.\u001b[39mgeocode(\u001b[39m\"\u001b[39m\u001b[39m\"\u001b[39m)\n\u001b[0;32m      <a href='vscode-notebook-cell:/c%3A/Users/betot/Downloads/login_2%20%283%29.ipynb#X16sZmlsZQ%3D%3D?line=5'>6</a>\u001b[0m     \u001b[39mprint\u001b[39m(location\u001b[39m.\u001b[39maddress)\n",
      "File \u001b[1;32mc:\\Users\\betot\\AppData\\Local\\Programs\\Python\\Python311\\Lib\\site-packages\\geopy\\geocoders\\nominatim.py:105\u001b[0m, in \u001b[0;36mNominatim.__init__\u001b[1;34m(self, timeout, proxies, domain, scheme, user_agent, ssl_context, adapter_factory)\u001b[0m\n\u001b[0;32m    101\u001b[0m \u001b[39mself\u001b[39m\u001b[39m.\u001b[39mdomain \u001b[39m=\u001b[39m domain\u001b[39m.\u001b[39mstrip(\u001b[39m'\u001b[39m\u001b[39m/\u001b[39m\u001b[39m'\u001b[39m)\n\u001b[0;32m    103\u001b[0m \u001b[39mif\u001b[39;00m (\u001b[39mself\u001b[39m\u001b[39m.\u001b[39mdomain \u001b[39m==\u001b[39m _DEFAULT_NOMINATIM_DOMAIN\n\u001b[0;32m    104\u001b[0m         \u001b[39mand\u001b[39;00m \u001b[39mself\u001b[39m\u001b[39m.\u001b[39mheaders[\u001b[39m'\u001b[39m\u001b[39mUser-Agent\u001b[39m\u001b[39m'\u001b[39m] \u001b[39min\u001b[39;00m _REJECTED_USER_AGENTS):\n\u001b[1;32m--> 105\u001b[0m     \u001b[39mraise\u001b[39;00m ConfigurationError(\n\u001b[0;32m    106\u001b[0m         \u001b[39m'\u001b[39m\u001b[39mUsing Nominatim with default or sample `user_agent` \u001b[39m\u001b[39m\"\u001b[39m\u001b[39m%s\u001b[39;00m\u001b[39m\"\u001b[39m\u001b[39m is \u001b[39m\u001b[39m'\u001b[39m\n\u001b[0;32m    107\u001b[0m         \u001b[39m'\u001b[39m\u001b[39mstrongly discouraged, as it violates Nominatim\u001b[39m\u001b[39m\\'\u001b[39;00m\u001b[39ms ToS \u001b[39m\u001b[39m'\u001b[39m\n\u001b[0;32m    108\u001b[0m         \u001b[39m'\u001b[39m\u001b[39mhttps://operations.osmfoundation.org/policies/nominatim/ \u001b[39m\u001b[39m'\u001b[39m\n\u001b[0;32m    109\u001b[0m         \u001b[39m'\u001b[39m\u001b[39mand may possibly cause 403 and 429 HTTP errors. \u001b[39m\u001b[39m'\u001b[39m\n\u001b[0;32m    110\u001b[0m         \u001b[39m'\u001b[39m\u001b[39mPlease specify a custom `user_agent` with \u001b[39m\u001b[39m'\u001b[39m\n\u001b[0;32m    111\u001b[0m         \u001b[39m'\u001b[39m\u001b[39m`Nominatim(user_agent=\u001b[39m\u001b[39m\"\u001b[39m\u001b[39mmy-application\u001b[39m\u001b[39m\"\u001b[39m\u001b[39m)` or by \u001b[39m\u001b[39m'\u001b[39m\n\u001b[0;32m    112\u001b[0m         \u001b[39m'\u001b[39m\u001b[39moverriding the default `user_agent`: \u001b[39m\u001b[39m'\u001b[39m\n\u001b[0;32m    113\u001b[0m         \u001b[39m'\u001b[39m\u001b[39m`geopy.geocoders.options.default_user_agent = \u001b[39m\u001b[39m\"\u001b[39m\u001b[39mmy-application\u001b[39m\u001b[39m\"\u001b[39m\u001b[39m`.\u001b[39m\u001b[39m'\u001b[39m\n\u001b[0;32m    114\u001b[0m         \u001b[39m%\u001b[39m \u001b[39mself\u001b[39m\u001b[39m.\u001b[39mheaders[\u001b[39m'\u001b[39m\u001b[39mUser-Agent\u001b[39m\u001b[39m'\u001b[39m]\n\u001b[0;32m    115\u001b[0m     )\n\u001b[0;32m    117\u001b[0m \u001b[39mself\u001b[39m\u001b[39m.\u001b[39mapi \u001b[39m=\u001b[39m \u001b[39m\"\u001b[39m\u001b[39m%s\u001b[39;00m\u001b[39m://\u001b[39m\u001b[39m%s\u001b[39;00m\u001b[39m%s\u001b[39;00m\u001b[39m\"\u001b[39m \u001b[39m%\u001b[39m (\u001b[39mself\u001b[39m\u001b[39m.\u001b[39mscheme, \u001b[39mself\u001b[39m\u001b[39m.\u001b[39mdomain, \u001b[39mself\u001b[39m\u001b[39m.\u001b[39mgeocode_path)\n\u001b[0;32m    118\u001b[0m \u001b[39mself\u001b[39m\u001b[39m.\u001b[39mreverse_api \u001b[39m=\u001b[39m \u001b[39m\"\u001b[39m\u001b[39m%s\u001b[39;00m\u001b[39m://\u001b[39m\u001b[39m%s\u001b[39;00m\u001b[39m%s\u001b[39;00m\u001b[39m\"\u001b[39m \u001b[39m%\u001b[39m (\u001b[39mself\u001b[39m\u001b[39m.\u001b[39mscheme, \u001b[39mself\u001b[39m\u001b[39m.\u001b[39mdomain, \u001b[39mself\u001b[39m\u001b[39m.\u001b[39mreverse_path)\n",
      "\u001b[1;31mConfigurationError\u001b[0m: Using Nominatim with default or sample `user_agent` \"geopy/2.4.0\" is strongly discouraged, as it violates Nominatim's ToS https://operations.osmfoundation.org/policies/nominatim/ and may possibly cause 403 and 429 HTTP errors. Please specify a custom `user_agent` with `Nominatim(user_agent=\"my-application\")` or by overriding the default `user_agent`: `geopy.geocoders.options.default_user_agent = \"my-application\"`."
     ]
    }
   ],
   "source": [
    "class localizacao:\n",
    "\n",
    "    from geopy.geocoders import Nominatim\n",
    "    geolocator = Nominatim(user_agent=\"\")\n",
    "    location = geolocator.geocode(\"\")\n",
    "    print(location.address)\n",
    "    print((location.latitude, location.longitude))\n",
    "    print(location.raw)\n",
    "    \n",
    "    def __init__(self,lugar,mapa):\n",
    "        self.lugar(input(geolocator))\n",
    "        self.mapa(input(location))\n",
    "\n",
    "    def mostra (self):\n",
    "        print(\"O a sua localização é {self.lugar}?\")\n"
   ]
  },
  {
   "cell_type": "code",
   "execution_count": 26,
   "metadata": {},
   "outputs": [
    {
     "name": "stdout",
     "output_type": "stream",
     "text": [
      "Diga um local:\n",
      "Mosque, Hajja - Kafr Qaddum, حجة‎, منطقة ب, הגדה המערבית, الأراضي الفلسطينية\n",
      "(32.2044756, 35.1315602)\n",
      "{'place_id': 187222815, 'licence': 'Data © OpenStreetMap contributors, ODbL 1.0. http://osm.org/copyright', 'osm_type': 'node', 'osm_id': 432307146, 'lat': '32.2044756', 'lon': '35.1315602', 'class': 'amenity', 'type': 'place_of_worship', 'place_rank': 30, 'importance': 0.34342522267617864, 'addresstype': 'amenity', 'name': 'Mosque', 'display_name': 'Mosque, Hajja - Kafr Qaddum, حجة\\u200e, منطقة ب, הגדה המערבית, الأراضي الفلسطينية', 'boundingbox': ['32.2044256', '32.2045256', '35.1315102', '35.1316102']}\n",
      "A sua localização é Mosque, Hajja - Kafr Qaddum, حجة‎, منطقة ب, הגדה המערבית, الأراضي الفلسطينية.\n"
     ]
    }
   ],
   "source": [
    "import speech_recognition as sr\n",
    "from geopy.geocoders import Nominatim\n",
    "\n",
    "class Localizador:\n",
    "    def __init__(self):\n",
    "        self.geolocator = Nominatim(user_agent=\"MASP\")\n",
    "        self.location = None\n",
    "\n",
    "    def reconhecer_fala(self):\n",
    "        recognizer = sr.Recognizer()\n",
    "        with sr.Microphone() as source:\n",
    "            print(\"Diga um local:\")\n",
    "            audio = recognizer.listen(source)\n",
    "        try:\n",
    "            texto = recognizer.recognize_google(audio)\n",
    "            return texto\n",
    "        except sr.UnknownValueError:\n",
    "            print(\"Não foi possível reconhecer a fala.\")\n",
    "        except sr.RequestError as e:\n",
    "            print(f\"Erro no reconhecimento de fala: {e}\")\n",
    "\n",
    "    def geocodificar(self, lugar):\n",
    "        self.location = self.geolocator.geocode(lugar)\n",
    "\n",
    "    def mostrar_localizacao(self):\n",
    "        if self.location:\n",
    "            print(self.location.address)\n",
    "            print((self.location.latitude, self.location.longitude))\n",
    "            print(self.location.raw)\n",
    "            print(f\"A sua localização é {self.location.address}.\")\n",
    "        else:\n",
    "            print(\"Localização não encontrada.\")\n",
    "\n",
    "    def executar(self):\n",
    "        lugar = self.reconhecer_fala()\n",
    "        self.geocodificar(lugar)\n",
    "        self.mostrar_localizacao()\n",
    "\n",
    "if __name__ == \"__main__\":\n",
    "    localizador = Localizador()\n",
    "    localizador.executar()\n"
   ]
  },
  {
   "cell_type": "code",
   "execution_count": null,
   "metadata": {},
   "outputs": [],
   "source": [
    "import speech_recognition as sr\n",
    "import pyaudio\n",
    "from geopy.geocoders import Nominatim\n",
    "\n",
    "class Localizador:\n",
    "    def __init__(self):\n",
    "        self.geolocator = Nominatim(user_agent=\"MASP\")\n",
    "        self.location = None\n",
    "        self.cidades_brasil = [\"São Paulo\", \"Rio de Janeiro\", \"Brasília\", \"Salvador\", \"Fortaleza\", \"Belo Horizonte\"]  # Adicione mais cidades\n",
    "\n",
    "    def reconhecer_fala(self):\n",
    "        recognizer = sr.Recognizer()\n",
    "        with sr.Microphone() as source:\n",
    "            print(\"Diga uma cidade do Brasil:\")\n",
    "            recognizer.adjust_for_ambient_noise(source, duration=1)  # Remove ruído de fundo\n",
    "            audio = recognizer.listen(source)\n",
    "\n",
    "        try:\n",
    "            texto = recognizer.recognize_google(audio, language=\"pt-BR\")\n",
    "            return texto\n",
    "        except sr.UnknownValueError:\n",
    "            print(\"Não foi possível reconhecer a fala.\")\n",
    "        except sr.RequestError as e:\n",
    "            print(f\"Erro no reconhecimento de fala: {e}\")\n",
    "\n",
    "    def geocodificar(self, lugar):\n",
    "        self.location = self.geolocator.geocode(lugar)\n",
    "\n",
    "    def mostrar_localizacao(self):\n",
    "        if self.location:\n",
    "            print(self.location.address)\n",
    "            print((self.location.latitude, self.location.longitude))\n",
    "            print(self.location.raw)\n",
    "            print(f\"A sua localização é {self.location.address}.\")\n",
    "        else:\n",
    "            print(\"Localização não encontrada.\")\n",
    "\n",
    "    def executar(self):\n",
    "        lugar = self.reconhecer_fala()\n",
    "        if lugar.lower() in [cidade.lower() for cidade in self.cidades_brasil]:\n",
    "            self.geocodificar(lugar)\n",
    "            self.mostrar_localizacao()\n",
    "        else:\n",
    "            print(f\"Desculpe, '{lugar}' não é uma cidade do Brasil ou não foi reconhecido.\")\n",
    "\n",
    "if __name__ == \"__main__\":\n",
    "    localizador = Localizador()\n",
    "    localizador.executar()\n"
   ]
  },
  {
   "cell_type": "code",
   "execution_count": 28,
   "metadata": {},
   "outputs": [
    {
     "ename": "FileNotFoundError",
     "evalue": "[Errno 2] No such file or directory: 'cidades_brasil.json'",
     "output_type": "error",
     "traceback": [
      "\u001b[1;31m---------------------------------------------------------------------------\u001b[0m",
      "\u001b[1;31mFileNotFoundError\u001b[0m                         Traceback (most recent call last)",
      "\u001b[1;32mc:\\Users\\betot\\Downloads\\login_2 (3).ipynb Célula 12\u001b[0m line \u001b[0;36m5\n\u001b[0;32m     <a href='vscode-notebook-cell:/c%3A/Users/betot/Downloads/login_2%20%283%29.ipynb#X22sZmlsZQ%3D%3D?line=49'>50</a>\u001b[0m             \u001b[39mprint\u001b[39m(\u001b[39mf\u001b[39m\u001b[39m\"\u001b[39m\u001b[39mDesculpe, \u001b[39m\u001b[39m'\u001b[39m\u001b[39m{\u001b[39;00mlugar\u001b[39m}\u001b[39;00m\u001b[39m'\u001b[39m\u001b[39m não é uma cidade do Brasil ou não foi reconhecido.\u001b[39m\u001b[39m\"\u001b[39m)\n\u001b[0;32m     <a href='vscode-notebook-cell:/c%3A/Users/betot/Downloads/login_2%20%283%29.ipynb#X22sZmlsZQ%3D%3D?line=51'>52</a>\u001b[0m \u001b[39mif\u001b[39;00m \u001b[39m__name__\u001b[39m \u001b[39m==\u001b[39m \u001b[39m\"\u001b[39m\u001b[39m__main__\u001b[39m\u001b[39m\"\u001b[39m:\n\u001b[1;32m---> <a href='vscode-notebook-cell:/c%3A/Users/betot/Downloads/login_2%20%283%29.ipynb#X22sZmlsZQ%3D%3D?line=52'>53</a>\u001b[0m     localizador \u001b[39m=\u001b[39m Localizador()\n\u001b[0;32m     <a href='vscode-notebook-cell:/c%3A/Users/betot/Downloads/login_2%20%283%29.ipynb#X22sZmlsZQ%3D%3D?line=53'>54</a>\u001b[0m     localizador\u001b[39m.\u001b[39mexecutar()\n",
      "\u001b[1;32mc:\\Users\\betot\\Downloads\\login_2 (3).ipynb Célula 12\u001b[0m line \u001b[0;36m1\n\u001b[0;32m      <a href='vscode-notebook-cell:/c%3A/Users/betot/Downloads/login_2%20%283%29.ipynb#X22sZmlsZQ%3D%3D?line=7'>8</a>\u001b[0m \u001b[39mself\u001b[39m\u001b[39m.\u001b[39mlocation \u001b[39m=\u001b[39m \u001b[39mNone\u001b[39;00m\n\u001b[0;32m     <a href='vscode-notebook-cell:/c%3A/Users/betot/Downloads/login_2%20%283%29.ipynb#X22sZmlsZQ%3D%3D?line=9'>10</a>\u001b[0m \u001b[39m# Carregando os dados de cidades brasileiras a partir de um arquivo JSON\u001b[39;00m\n\u001b[1;32m---> <a href='vscode-notebook-cell:/c%3A/Users/betot/Downloads/login_2%20%283%29.ipynb#X22sZmlsZQ%3D%3D?line=10'>11</a>\u001b[0m \u001b[39mwith\u001b[39;00m \u001b[39mopen\u001b[39;49m(\u001b[39m'\u001b[39;49m\u001b[39mcidades_brasil.json\u001b[39;49m\u001b[39m'\u001b[39;49m, \u001b[39m'\u001b[39;49m\u001b[39mr\u001b[39;49m\u001b[39m'\u001b[39;49m, encoding\u001b[39m=\u001b[39;49m\u001b[39m'\u001b[39;49m\u001b[39mutf-8\u001b[39;49m\u001b[39m'\u001b[39;49m) \u001b[39mas\u001b[39;00m file:\n\u001b[0;32m     <a href='vscode-notebook-cell:/c%3A/Users/betot/Downloads/login_2%20%283%29.ipynb#X22sZmlsZQ%3D%3D?line=11'>12</a>\u001b[0m     data \u001b[39m=\u001b[39m json\u001b[39m.\u001b[39mload(file)\n\u001b[0;32m     <a href='vscode-notebook-cell:/c%3A/Users/betot/Downloads/login_2%20%283%29.ipynb#X22sZmlsZQ%3D%3D?line=13'>14</a>\u001b[0m \u001b[39m# Extraindo os nomes das cidades e armazenando em self.cidades_brasil\u001b[39;00m\n",
      "File \u001b[1;32m~\\AppData\\Roaming\\Python\\Python311\\site-packages\\IPython\\core\\interactiveshell.py:286\u001b[0m, in \u001b[0;36m_modified_open\u001b[1;34m(file, *args, **kwargs)\u001b[0m\n\u001b[0;32m    279\u001b[0m \u001b[39mif\u001b[39;00m file \u001b[39min\u001b[39;00m {\u001b[39m0\u001b[39m, \u001b[39m1\u001b[39m, \u001b[39m2\u001b[39m}:\n\u001b[0;32m    280\u001b[0m     \u001b[39mraise\u001b[39;00m \u001b[39mValueError\u001b[39;00m(\n\u001b[0;32m    281\u001b[0m         \u001b[39mf\u001b[39m\u001b[39m\"\u001b[39m\u001b[39mIPython won\u001b[39m\u001b[39m'\u001b[39m\u001b[39mt let you open fd=\u001b[39m\u001b[39m{\u001b[39;00mfile\u001b[39m}\u001b[39;00m\u001b[39m by default \u001b[39m\u001b[39m\"\u001b[39m\n\u001b[0;32m    282\u001b[0m         \u001b[39m\"\u001b[39m\u001b[39mas it is likely to crash IPython. If you know what you are doing, \u001b[39m\u001b[39m\"\u001b[39m\n\u001b[0;32m    283\u001b[0m         \u001b[39m\"\u001b[39m\u001b[39myou can use builtins\u001b[39m\u001b[39m'\u001b[39m\u001b[39m open.\u001b[39m\u001b[39m\"\u001b[39m\n\u001b[0;32m    284\u001b[0m     )\n\u001b[1;32m--> 286\u001b[0m \u001b[39mreturn\u001b[39;00m io_open(file, \u001b[39m*\u001b[39;49margs, \u001b[39m*\u001b[39;49m\u001b[39m*\u001b[39;49mkwargs)\n",
      "\u001b[1;31mFileNotFoundError\u001b[0m: [Errno 2] No such file or directory: 'cidades_brasil.json'"
     ]
    }
   ],
   "source": [
    "import json\n",
    "import speech_recognition as sr\n",
    "from geopy.geocoders import Nominatim\n",
    "\n",
    "class Localizador:\n",
    "    def __init__(self):\n",
    "        self.geolocator = Nominatim(user_agent=\"MASP\")\n",
    "        self.location = None\n",
    "\n",
    "        # Carregando os dados de cidades brasileiras a partir de um arquivo JSON\n",
    "        with open('cidades_brasil.json', 'r', encoding='utf-8') as file:\n",
    "            data = json.load(file)\n",
    "        \n",
    "        # Extraindo os nomes das cidades e armazenando em self.cidades_brasil\n",
    "        self.cidades_brasil = [cidade['nome'] for cidade in data]\n",
    "\n",
    "    def reconhecer_fala(self):\n",
    "        recognizer = sr.Recognizer()\n",
    "        with sr.Microphone() as source:\n",
    "            print(\"Diga uma cidade do Brasil:\")\n",
    "            recognizer.adjust_for_ambient_noise(source, duration=1)  # Remove ruído de fundo\n",
    "            audio = recognizer.listen(source)\n",
    "\n",
    "        try:\n",
    "            texto = recognizer.recognize_google(audio, language=\"pt-BR\")\n",
    "            return texto\n",
    "        except sr.UnknownValueError:\n",
    "            print(\"Não foi possível reconhecer a fala.\")\n",
    "        except sr.RequestError as e:\n",
    "            print(f\"Erro no reconhecimento de fala: {e}\")\n",
    "\n",
    "    def geocodificar(self, lugar):\n",
    "        self.location = self.geolocator.geocode(lugar)\n",
    "\n",
    "    def mostrar_localizacao(self):\n",
    "        if self.location:\n",
    "            print(self.location.address)\n",
    "            print((self.location.latitude, self.location.longitude))\n",
    "            print(self.location.raw)\n",
    "            print(f\"A sua localização é {self.location.address}.\")\n",
    "        else:\n",
    "            print(\"Localização não encontrada.\")\n",
    "\n",
    "    def executar(self):\n",
    "        lugar = self.reconhecer_fala()\n",
    "        if lugar.lower() in [cidade.lower() for cidade in self.cidades_brasil]:\n",
    "            self.geocodificar(lugar)\n",
    "            self.mostrar_localizacao()\n",
    "        else:\n",
    "            print(f\"Desculpe, '{lugar}' não é uma cidade do Brasil ou não foi reconhecido.\")\n",
    "\n",
    "if __name__ == \"__main__\":\n",
    "    localizador = Localizador()\n",
    "    localizador.executar()\n"
   ]
  },
  {
   "cell_type": "code",
   "execution_count": 29,
   "metadata": {},
   "outputs": [
    {
     "name": "stdout",
     "output_type": "stream",
     "text": [
      "O arquivo 'cidades_brasil.json' não existe no diretório atual.\n"
     ]
    }
   ],
   "source": [
    "import os\n",
    "\n",
    "if os.path.isfile(\"cidades_brasil.json\"):\n",
    "    print(\"O arquivo 'cidades_brasil.json' existe no diretório atual.\")\n",
    "else:\n",
    "    print(\"O arquivo 'cidades_brasil.json' não existe no diretório atual.\")"
   ]
  },
  {
   "cell_type": "code",
   "execution_count": null,
   "metadata": {},
   "outputs": [],
   "source": []
  }
 ],
 "metadata": {
  "kernelspec": {
   "display_name": "Python 3",
   "language": "python",
   "name": "python3"
  },
  "language_info": {
   "codemirror_mode": {
    "name": "ipython",
    "version": 3
   },
   "file_extension": ".py",
   "mimetype": "text/x-python",
   "name": "python",
   "nbconvert_exporter": "python",
   "pygments_lexer": "ipython3",
   "version": "3.11.5"
  },
  "orig_nbformat": 4,
  "vscode": {
   "interpreter": {
    "hash": "5238573367df39f7286bb46f9ff5f08f63a01a80960060ce41e3c79b190280fa"
   }
  }
 },
 "nbformat": 4,
 "nbformat_minor": 2
}
