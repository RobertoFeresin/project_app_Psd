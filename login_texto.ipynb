{
 "cells": [
  {
   "cell_type": "code",
   "execution_count": 2,
   "metadata": {},
   "outputs": [
    {
     "name": "stdout",
     "output_type": "stream",
     "text": [
      "Defaulting to user installation because normal site-packages is not writeable\n",
      "Requirement already satisfied: SpeechRecognition in c:\\users\\instrutor\\appdata\\roaming\\python\\python311\\site-packages (3.10.0)\n",
      "Requirement already satisfied: requests>=2.26.0 in c:\\users\\instrutor\\appdata\\roaming\\python\\python311\\site-packages (from SpeechRecognition) (2.31.0)\n",
      "Requirement already satisfied: charset-normalizer<4,>=2 in c:\\users\\instrutor\\appdata\\roaming\\python\\python311\\site-packages (from requests>=2.26.0->SpeechRecognition) (3.3.0)\n",
      "Requirement already satisfied: idna<4,>=2.5 in c:\\users\\instrutor\\appdata\\roaming\\python\\python311\\site-packages (from requests>=2.26.0->SpeechRecognition) (3.4)\n",
      "Requirement already satisfied: urllib3<3,>=1.21.1 in c:\\users\\instrutor\\appdata\\roaming\\python\\python311\\site-packages (from requests>=2.26.0->SpeechRecognition) (2.0.7)\n",
      "Requirement already satisfied: certifi>=2017.4.17 in c:\\users\\instrutor\\appdata\\roaming\\python\\python311\\site-packages (from requests>=2.26.0->SpeechRecognition) (2023.7.22)\n",
      "Note: you may need to restart the kernel to use updated packages.\n"
     ]
    }
   ],
   "source": [
    "pip install SpeechRecognition"
   ]
  },
  {
   "cell_type": "code",
   "execution_count": 12,
   "metadata": {},
   "outputs": [
    {
     "ename": "NameError",
     "evalue": "name 'login' is not defined",
     "output_type": "error",
     "traceback": [
      "\u001b[1;31m---------------------------------------------------------------------------\u001b[0m",
      "\u001b[1;31mNameError\u001b[0m                                 Traceback (most recent call last)",
      "Cell \u001b[1;32mIn[12], line 35\u001b[0m\n\u001b[0;32m     33\u001b[0m resgistro_ \u001b[39m=\u001b[39m registro()\n\u001b[0;32m     34\u001b[0m \u001b[39m# Chamando o método login\u001b[39;00m\n\u001b[1;32m---> 35\u001b[0m login()\n",
      "\u001b[1;31mNameError\u001b[0m: name 'login' is not defined"
     ]
    }
   ],
   "source": [
    "import speech_recognition as sr\n",
    "\n",
    "def reconhecer_fala():\n",
    "    microfone = sr.Recognizer()\n",
    "    with sr.Microphone() as source:\n",
    "        print(\"Diga alguma coisa\")\n",
    "        audio = microfone.listen(source)\n",
    "        try:\n",
    "            frase = microfone.recognize_google(audio, language='pt-BR')\n",
    "    \n",
    "            return frase\n",
    "        except sr.UnknownValueError:\n",
    "            print('Não foi possível entender o que você disse.')\n",
    "        except sr.RequestError:\n",
    "            print('Não foi possível se conectar ao serviço de reconhecimento de fala.')\n",
    "\n",
    "class registro:\n",
    "    def __init__(self):\n",
    "        self.gera_senha = input(\"Informe uma senha : \")\n",
    "        self.confirma_senha = input(\"Confimre a senha : \")\n",
    "      \n",
    "\n",
    "    def login(self):\n",
    "        while True:\n",
    "            senha = input(reconhecer_fala)\n",
    "            if senha == self.gera_senha and self.confirma_senha:\n",
    "                print(\"Login efetuado com sucesso!\")\n",
    "                break\n",
    "            else:\n",
    "                print(\"A senha está errada\")\n",
    "\n",
    "# Criando uma instância da classe fimles\n",
    "resgistro_ = registro()\n",
    "# Chamando o método login\n",
    "login()\n",
    "\n",
    "\n"
   ]
  },
  {
   "cell_type": "code",
   "execution_count": null,
   "metadata": {},
   "outputs": [],
   "source": []
  },
  {
   "cell_type": "code",
   "execution_count": null,
   "metadata": {},
   "outputs": [],
   "source": []
  }
 ],
 "metadata": {
  "kernelspec": {
   "display_name": "Python 3",
   "language": "python",
   "name": "python3"
  },
  "language_info": {
   "codemirror_mode": {
    "name": "ipython",
    "version": 3
   },
   "file_extension": ".py",
   "mimetype": "text/x-python",
   "name": "python",
   "nbconvert_exporter": "python",
   "pygments_lexer": "ipython3",
   "version": "3.11.1"
  },
  "orig_nbformat": 4,
  "vscode": {
   "interpreter": {
    "hash": "5238573367df39f7286bb46f9ff5f08f63a01a80960060ce41e3c79b190280fa"
   }
  }
 },
 "nbformat": 4,
 "nbformat_minor": 2
}
